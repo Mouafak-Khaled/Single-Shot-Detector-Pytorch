{
 "cells": [
  {
   "cell_type": "code",
   "execution_count": 51,
   "metadata": {},
   "outputs": [],
   "source": [
    "import torch\n",
    "from model.ssd import *\n",
    "from utils import *\n",
    "from data import *\n",
    "from torch.optim import SGD, Adam\n",
    "from train import train\n",
    "from torch.utils.data import DataLoader\n",
    "from evaluate import evaluate"
   ]
  },
  {
   "cell_type": "code",
   "execution_count": 3,
   "metadata": {},
   "outputs": [],
   "source": [
    "TOTAL_PRIORS_NUM = 9128\n",
    "TOTAL_NUM_OF_CLASSES = 91"
   ]
  },
  {
   "cell_type": "code",
   "execution_count": 4,
   "metadata": {},
   "outputs": [],
   "source": [
    "if torch.cuda.is_available():\n",
    "#     device = torch.device('cuda:0')\n",
    "    device = torch.device('cuda:0')\n",
    "else:\n",
    "    device = torch.device('cpu')"
   ]
  },
  {
   "cell_type": "code",
   "execution_count": 5,
   "metadata": {},
   "outputs": [],
   "source": [
    "dataset_train_path = \"/datasets/COCO\"\n",
    "dataset_val_path = \"/datasets/COCO\"\n",
    "annot_train_path = \"/datasets/COCO/annotations\""
   ]
  },
  {
   "cell_type": "code",
   "execution_count": 6,
   "metadata": {
    "scrolled": true
   },
   "outputs": [
    {
     "name": "stdout",
     "output_type": "stream",
     "text": [
      "loading annotations into memory...\n",
      "Done (t=14.76s)\n",
      "creating index...\n",
      "index created!\n"
     ]
    }
   ],
   "source": [
    "train_data = CocoData(dataset_train_path, annot_train_path,\n",
    "                      transform=CustomCocoTransform,\n",
    "                      device = device,\n",
    "                      labels_path = './data/coco/annotations/labels.txt')"
   ]
  },
  {
   "cell_type": "code",
   "execution_count": 7,
   "metadata": {
    "scrolled": true
   },
   "outputs": [
    {
     "name": "stdout",
     "output_type": "stream",
     "text": [
      "loading annotations into memory...\n",
      "Done (t=0.48s)\n",
      "creating index...\n",
      "index created!\n"
     ]
    }
   ],
   "source": [
    "val_data = CocoData(dataset_train_path, annot_train_path,\n",
    "                    transform=CustomCocoTransform,\n",
    "                    device = device,\n",
    "                    split=\"validation\",\n",
    "                    labels_path = './data/coco/annotations/labels.txt')"
   ]
  },
  {
   "cell_type": "code",
   "execution_count": 8,
   "metadata": {},
   "outputs": [
    {
     "name": "stdout",
     "output_type": "stream",
     "text": [
      "crearing priors\n",
      "cxcy to xy\n"
     ]
    }
   ],
   "source": [
    "criterion = MultiboxLoss(TOTAL_PRIORS_NUM, TOTAL_NUM_OF_CLASSES,threshold=0.5, alpha=1.0)"
   ]
  },
  {
   "cell_type": "code",
   "execution_count": 9,
   "metadata": {},
   "outputs": [],
   "source": [
    "epochs = 15"
   ]
  },
  {
   "cell_type": "code",
   "execution_count": 10,
   "metadata": {},
   "outputs": [],
   "source": [
    "%load_ext autoreload\n",
    "%autoreload 2"
   ]
  },
  {
   "cell_type": "code",
   "execution_count": 11,
   "metadata": {},
   "outputs": [],
   "source": [
    "priors = [4, 7, 6, 7, 5, 5]\n",
    "channels_in = [128, 256, 512, 256, 256, 256]\n",
    "loc_channel_out = [4 * prior for prior in priors]\n",
    "pred_channel_out = [NUM_OF_CLASSES * prior for prior in priors]\n",
    "base_model = models.resnet18(pretrained=True)\n",
    "features = FeatureNet(base_model)\n",
    "    \n",
    "for param in base_model.parameters():\n",
    "    param.requires_grad=False"
   ]
  },
  {
   "cell_type": "code",
   "execution_count": 12,
   "metadata": {},
   "outputs": [],
   "source": [
    "model = PredConvNet(channels_in, loc_channel_out, pred_channel_out, features.features)"
   ]
  },
  {
   "cell_type": "code",
   "execution_count": 13,
   "metadata": {},
   "outputs": [],
   "source": [
    "optimizer = SGD(model.parameters(), lr=2.5e-2, momentum=0.9, weight_decay=5e-4, nesterov=True)"
   ]
  },
  {
   "cell_type": "code",
   "execution_count": 14,
   "metadata": {},
   "outputs": [],
   "source": [
    "optimizer = Adam(model.parameters(), lr=1e-4, weight_decay=5e-4, amsgrad=True)"
   ]
  },
  {
   "cell_type": "code",
   "execution_count": 37,
   "metadata": {},
   "outputs": [],
   "source": [
    "train_loader = DataLoader(dataset=train_data, collate_fn = train_data.collate_fn ,batch_size=128)\n",
    "validation_loader = DataLoader(dataset=val_data, collate_fn = val_data.collate_fn , batch_size=1)"
   ]
  },
  {
   "cell_type": "code",
   "execution_count": 16,
   "metadata": {
    "scrolled": false
   },
   "outputs": [
    {
     "name": "stdout",
     "output_type": "stream",
     "text": [
      "Epoch 0 : loss = 3383.377851486206\n",
      "Epoch 1 : loss = 3371.697202682495\n",
      "Epoch 2 : loss = 3297.551956176758\n",
      "Epoch 3 : loss = 3265.590446472168\n",
      "Epoch 4 : loss = 3251.079755783081\n",
      "Epoch 5 : loss = 3245.22257232666\n",
      "Epoch 6 : loss = 3244.5001678466797\n",
      "Epoch 7 : loss = 3248.6370964050293\n",
      "Epoch 8 : loss = 3194.6704177856445\n",
      "Epoch 9 : loss = 3195.211284637451\n",
      "Epoch 10 : loss = 3199.2080116271973\n",
      "Epoch 11 : loss = 3203.2918739318848\n",
      "Epoch 12 : loss = 3209.8222675323486\n",
      "Epoch 13 : loss = 3217.095920562744\n",
      "Epoch 14 : loss = 3223.964792251587\n"
     ]
    }
   ],
   "source": [
    "loss = train(\n",
    "    model = model,\n",
    "    train_loader = validation_loader,\n",
    "    validation_loader = validation_loader,\n",
    "    optimizer = optimizer,\n",
    "    criterion = criterion,\n",
    "    epochs = epochs,\n",
    "    device = device\n",
    ")"
   ]
  },
  {
   "cell_type": "code",
   "execution_count": 88,
   "metadata": {},
   "outputs": [
    {
     "data": {
      "text/plain": [
       "[<matplotlib.lines.Line2D at 0x2aeefb667130>]"
      ]
     },
     "execution_count": 88,
     "metadata": {},
     "output_type": "execute_result"
    },
    {
     "data": {
      "image/png": "[encoded data removed]",
      "text/plain": [
       "<Figure size 432x288 with 1 Axes>"
      ]
     },
     "metadata": {
      "needs_background": "light"
     },
     "output_type": "display_data"
    }
   ],
   "source": [
    "import matplotlib.pyplot as plt\n",
    "plt.plot(loss)"
   ]
  },
  {
   "cell_type": "code",
   "execution_count": 30,
   "metadata": {},
   "outputs": [],
   "source": [
    "model_file = open('./model_time_steps/model_epoch14', 'rb')"
   ]
  },
  {
   "cell_type": "code",
   "execution_count": 31,
   "metadata": {},
   "outputs": [],
   "source": [
    "model_state_dict = torch.load(model_file)['model_state_dict']"
   ]
  },
  {
   "cell_type": "code",
   "execution_count": 32,
   "metadata": {},
   "outputs": [
    {
     "data": {
      "text/plain": [
       "<All keys matched successfully>"
      ]
     },
     "execution_count": 32,
     "metadata": {},
     "output_type": "execute_result"
    }
   ],
   "source": [
    "model.load_state_dict(model_state_dict)"
   ]
  },
  {
   "cell_type": "code",
   "execution_count": 71,
   "metadata": {},
   "outputs": [
    {
     "name": "stdout",
     "output_type": "stream",
     "text": [
      "41\n"
     ]
    }
   ],
   "source": [
    "from evaluate import evaluate\n",
    "evaluate(model, validation_loader, device)"
   ]
  }
 ],
 "metadata": {
  "interpreter": {
   "hash": "78855b07657d7cddad00854abcafbce8a2a9cbbf917060d7e4fea1ea04f3bd2a"
  },
  "kernelspec": {
   "display_name": "ssdreal",
   "language": "python",
   "name": "python3"
  },
  "language_info": {
   "codemirror_mode": {
    "name": "ipython",
    "version": 3
   },
   "file_extension": ".py",
   "mimetype": "text/x-python",
   "name": "python",
   "nbconvert_exporter": "python",
   "pygments_lexer": "ipython3",
   "version": "3.9.7"
  }
 },
 "nbformat": 4,
 "nbformat_minor": 5
}
