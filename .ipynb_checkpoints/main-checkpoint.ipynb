{
 "cells": [
  {
   "cell_type": "code",
   "execution_count": 1,
   "id": "7dbd2761",
   "metadata": {},
   "outputs": [],
   "source": [
    "import torch\n",
    "from model.ssd import *\n",
    "from utils import *\n",
    "from data import *\n",
    "from torch.optim import SGD\n",
    "from train import train\n",
    "from torch.utils.data import DataLoader"
   ]
  },
  {
   "cell_type": "code",
   "execution_count": 2,
   "id": "a11ef890",
   "metadata": {},
   "outputs": [],
   "source": [
    "if torch.cuda.is_available():\n",
    "#     device = torch.device('cuda:0')\n",
    "    device = torch.device('cpu')\n",
    "else:\n",
    "    device = torch.device('cpu')"
   ]
  },
  {
   "cell_type": "code",
   "execution_count": 3,
   "id": "6b7019c8",
   "metadata": {},
   "outputs": [],
   "source": [
    "dataset_train_path = \"/home/sarieh/coco_dataset\"\n",
    "dataset_val_path = \"/home/sarieh/coco_dataset\"\n",
    "annot_train_path = \"/home/sarieh/coco_dataset/annotations\""
   ]
  },
  {
   "cell_type": "code",
   "execution_count": 4,
   "id": "6a750810",
   "metadata": {},
   "outputs": [
    {
     "name": "stdout",
     "output_type": "stream",
     "text": [
      "loading annotations into memory...\n",
      "Done (t=9.55s)\n",
      "creating index...\n",
      "index created!\n"
     ]
    }
   ],
   "source": [
    "train_data = CocoData(dataset_train_path, annot_train_path, \n",
    "                      transform=CustomCocoTransform,\n",
    "                      device = device,\n",
    "                      labels_path = './data/coco/annotations/labels.txt')"
   ]
  },
  {
   "cell_type": "code",
   "execution_count": 5,
   "id": "ca73e81d",
   "metadata": {},
   "outputs": [
    {
     "name": "stdout",
     "output_type": "stream",
     "text": [
      "loading annotations into memory...\n",
      "Done (t=1.59s)\n",
      "creating index...\n",
      "index created!\n"
     ]
    }
   ],
   "source": [
    "val_data = CocoData(dataset_train_path, annot_train_path,\n",
    "                    transform=CustomCocoTransform,\n",
    "                    device = device,\n",
    "                    split=\"validation\",\n",
    "                    labels_path = './data/coco/annotations/labels.txt')"
   ]
  },
  {
   "cell_type": "code",
   "execution_count": 6,
   "id": "f175e756",
   "metadata": {},
   "outputs": [],
   "source": [
    "criterion = MultiboxLoss(threshold=0.5, alpha=1)"
   ]
  },
  {
   "cell_type": "code",
   "execution_count": 7,
   "id": "c9869db7",
   "metadata": {},
   "outputs": [],
   "source": [
    "epochs = 1"
   ]
  },
  {
   "cell_type": "code",
   "execution_count": 8,
   "id": "a12ac435",
   "metadata": {},
   "outputs": [],
   "source": [
    "priors = [4, 7, 6, 7, 5, 5]\n",
    "channels_in = [128, 256, 512, 256, 256, 256]\n",
    "loc_channel_out = [4 * prior for prior in priors]\n",
    "pred_channel_out = [NUM_OF_CLASSES * prior for prior in priors]\n",
    "base_model = models.resnet18(pretrained=True)\n",
    "features = FeatureNet(base_model)\n",
    "\n",
    "for param in base_model.parameters():\n",
    "    param.requires_grad=False"
   ]
  },
  {
   "cell_type": "code",
   "execution_count": 9,
   "id": "b3c8d9d0",
   "metadata": {},
   "outputs": [],
   "source": [
    "model = PredConvNet(channels_in, loc_channel_out, pred_channel_out, features.features)"
   ]
  },
  {
   "cell_type": "code",
   "execution_count": 10,
   "id": "24204949",
   "metadata": {},
   "outputs": [],
   "source": [
    "optimizer = SGD(model.parameters(), lr=1e-3, momentum=0.9, weight_decay=5e-4)"
   ]
  },
  {
   "cell_type": "code",
   "execution_count": 11,
   "id": "acadcd9a",
   "metadata": {},
   "outputs": [],
   "source": [
    "train_loader = DataLoader(dataset=train_data, collate_fn = train_data.collate_fn ,batch_size=1)\n",
    "validation_loader = DataLoader(dataset=val_data, collate_fn = val_data.collate_fn , batch_size=1)"
   ]
  },
  {
   "cell_type": "code",
   "execution_count": 12,
   "id": "4f63c79b",
   "metadata": {
    "scrolled": true
   },
   "outputs": [
    {
     "name": "stdout",
     "output_type": "stream",
     "text": [
      "tensor([[0.0017, 0.3910, 0.9556, 0.5955],\n",
      "        [0.4871, 0.0090, 0.4989, 0.4764],\n",
      "        [0.3900, 0.4776, 0.4941, 0.5106],\n",
      "        [0.0000, 0.0281, 0.6789, 0.7815],\n",
      "        [0.5878, 0.0841, 0.1180, 0.0969],\n",
      "        [0.7278, 0.0812, 0.0907, 0.0972],\n",
      "        [0.6027, 0.1535, 0.1313, 0.1469],\n",
      "        [0.5688, 0.0052, 0.1481, 0.1481]])\n"
     ]
    },
    {
     "ename": "ValueError",
     "evalue": "too many values to unpack (expected 4)",
     "output_type": "error",
     "traceback": [
      "\u001b[0;31m---------------------------------------------------------------------------\u001b[0m",
      "\u001b[0;31mValueError\u001b[0m                                Traceback (most recent call last)",
      "\u001b[0;32m/tmp/ipykernel_146018/1871294758.py\u001b[0m in \u001b[0;36m<module>\u001b[0;34m\u001b[0m\n\u001b[0;32m----> 1\u001b[0;31m train(\n\u001b[0m\u001b[1;32m      2\u001b[0m     \u001b[0mmodel\u001b[0m \u001b[0;34m=\u001b[0m \u001b[0mmodel\u001b[0m\u001b[0;34m,\u001b[0m\u001b[0;34m\u001b[0m\u001b[0;34m\u001b[0m\u001b[0m\n\u001b[1;32m      3\u001b[0m     \u001b[0mtrain_loader\u001b[0m \u001b[0;34m=\u001b[0m \u001b[0mtrain_loader\u001b[0m\u001b[0;34m,\u001b[0m\u001b[0;34m\u001b[0m\u001b[0;34m\u001b[0m\u001b[0m\n\u001b[1;32m      4\u001b[0m     \u001b[0mvalidation_loader\u001b[0m \u001b[0;34m=\u001b[0m \u001b[0mvalidation_loader\u001b[0m\u001b[0;34m,\u001b[0m\u001b[0;34m\u001b[0m\u001b[0;34m\u001b[0m\u001b[0m\n\u001b[1;32m      5\u001b[0m     \u001b[0moptimizer\u001b[0m \u001b[0;34m=\u001b[0m \u001b[0moptimizer\u001b[0m\u001b[0;34m,\u001b[0m\u001b[0;34m\u001b[0m\u001b[0;34m\u001b[0m\u001b[0m\n",
      "\u001b[0;32m~/gitkraken/Single-Shot-Detector-Pytorch/train.py\u001b[0m in \u001b[0;36mtrain\u001b[0;34m(model, train_loader, validation_loader, optimizer, criterion, epochs, device)\u001b[0m\n\u001b[1;32m     18\u001b[0m             \u001b[0mloc_hat\u001b[0m\u001b[0;34m,\u001b[0m \u001b[0mconf_hat\u001b[0m \u001b[0;34m=\u001b[0m \u001b[0mmodel\u001b[0m\u001b[0;34m(\u001b[0m\u001b[0mimages\u001b[0m\u001b[0;34m)\u001b[0m\u001b[0;34m\u001b[0m\u001b[0;34m\u001b[0m\u001b[0m\n\u001b[1;32m     19\u001b[0m \u001b[0;34m\u001b[0m\u001b[0m\n\u001b[0;32m---> 20\u001b[0;31m             \u001b[0mloss\u001b[0m \u001b[0;34m=\u001b[0m \u001b[0mcriterion\u001b[0m\u001b[0;34m(\u001b[0m\u001b[0mbboxes\u001b[0m\u001b[0;34m,\u001b[0m \u001b[0mloc_hat\u001b[0m\u001b[0;34m,\u001b[0m \u001b[0mlabels\u001b[0m\u001b[0;34m,\u001b[0m \u001b[0mconf_hat\u001b[0m\u001b[0;34m)\u001b[0m\u001b[0;34m\u001b[0m\u001b[0;34m\u001b[0m\u001b[0m\n\u001b[0m\u001b[1;32m     21\u001b[0m             \u001b[0mbatch_loss\u001b[0m \u001b[0;34m+=\u001b[0m \u001b[0mloss\u001b[0m\u001b[0;34m.\u001b[0m\u001b[0mitem\u001b[0m\u001b[0;34m(\u001b[0m\u001b[0;34m)\u001b[0m\u001b[0;34m\u001b[0m\u001b[0;34m\u001b[0m\u001b[0m\n\u001b[1;32m     22\u001b[0m             \u001b[0mloss\u001b[0m\u001b[0;34m.\u001b[0m\u001b[0mbackward\u001b[0m\u001b[0;34m(\u001b[0m\u001b[0;34m)\u001b[0m\u001b[0;34m\u001b[0m\u001b[0;34m\u001b[0m\u001b[0m\n",
      "\u001b[0;32m~/anaconda3/lib/python3.9/site-packages/torch/nn/modules/module.py\u001b[0m in \u001b[0;36m_call_impl\u001b[0;34m(self, *input, **kwargs)\u001b[0m\n\u001b[1;32m   1100\u001b[0m         if not (self._backward_hooks or self._forward_hooks or self._forward_pre_hooks or _global_backward_hooks\n\u001b[1;32m   1101\u001b[0m                 or _global_forward_hooks or _global_forward_pre_hooks):\n\u001b[0;32m-> 1102\u001b[0;31m             \u001b[0;32mreturn\u001b[0m \u001b[0mforward_call\u001b[0m\u001b[0;34m(\u001b[0m\u001b[0;34m*\u001b[0m\u001b[0minput\u001b[0m\u001b[0;34m,\u001b[0m \u001b[0;34m**\u001b[0m\u001b[0mkwargs\u001b[0m\u001b[0;34m)\u001b[0m\u001b[0;34m\u001b[0m\u001b[0;34m\u001b[0m\u001b[0m\n\u001b[0m\u001b[1;32m   1103\u001b[0m         \u001b[0;31m# Do not call functions when jit is used\u001b[0m\u001b[0;34m\u001b[0m\u001b[0;34m\u001b[0m\u001b[0m\n\u001b[1;32m   1104\u001b[0m         \u001b[0mfull_backward_hooks\u001b[0m\u001b[0;34m,\u001b[0m \u001b[0mnon_full_backward_hooks\u001b[0m \u001b[0;34m=\u001b[0m \u001b[0;34m[\u001b[0m\u001b[0;34m]\u001b[0m\u001b[0;34m,\u001b[0m \u001b[0;34m[\u001b[0m\u001b[0;34m]\u001b[0m\u001b[0;34m\u001b[0m\u001b[0;34m\u001b[0m\u001b[0m\n",
      "\u001b[0;32m~/gitkraken/Single-Shot-Detector-Pytorch/model/ssd.py\u001b[0m in \u001b[0;36mforward\u001b[0;34m(self, gt_locs, pred_locs, gt_ids, pred_confs)\u001b[0m\n\u001b[1;32m    175\u001b[0m             \u001b[0mprint\u001b[0m\u001b[0;34m(\u001b[0m\u001b[0mgt_loc\u001b[0m\u001b[0;34m)\u001b[0m\u001b[0;34m\u001b[0m\u001b[0;34m\u001b[0m\u001b[0m\n\u001b[1;32m    176\u001b[0m \u001b[0;34m\u001b[0m\u001b[0m\n\u001b[0;32m--> 177\u001b[0;31m             \u001b[0mgt_left\u001b[0m\u001b[0;34m,\u001b[0m \u001b[0mgt_top\u001b[0m\u001b[0;34m,\u001b[0m \u001b[0mw\u001b[0m\u001b[0;34m,\u001b[0m \u001b[0mh\u001b[0m \u001b[0;34m=\u001b[0m \u001b[0mgt_loc\u001b[0m\u001b[0;34m\u001b[0m\u001b[0;34m\u001b[0m\u001b[0m\n\u001b[0m\u001b[1;32m    178\u001b[0m             \u001b[0mgt_right\u001b[0m \u001b[0;34m=\u001b[0m \u001b[0mgt_top\u001b[0m \u001b[0;34m+\u001b[0m \u001b[0mh\u001b[0m\u001b[0;34m\u001b[0m\u001b[0;34m\u001b[0m\u001b[0m\n\u001b[1;32m    179\u001b[0m             \u001b[0mgt_bottom\u001b[0m \u001b[0;34m=\u001b[0m \u001b[0mgt_left\u001b[0m \u001b[0;34m+\u001b[0m \u001b[0mw\u001b[0m\u001b[0;34m\u001b[0m\u001b[0;34m\u001b[0m\u001b[0m\n",
      "\u001b[0;31mValueError\u001b[0m: too many values to unpack (expected 4)"
     ]
    }
   ],
   "source": [
    "train(\n",
    "    model = model,\n",
    "    train_loader = train_loader,\n",
    "    validation_loader = validation_loader,\n",
    "    optimizer = optimizer,\n",
    "    criterion = criterion,\n",
    "    epochs = epochs,\n",
    "    device = device\n",
    ")"
   ]
  },
  {
   "cell_type": "code",
   "execution_count": null,
   "id": "1c5feb6d-ce10-44df-8280-79ede6fc46ba",
   "metadata": {},
   "outputs": [],
   "source": []
  }
 ],
 "metadata": {
  "kernelspec": {
   "display_name": "Python 3 (ipykernel)",
   "language": "python",
   "name": "python3"
  },
  "language_info": {
   "codemirror_mode": {
    "name": "ipython",
    "version": 3
   },
   "file_extension": ".py",
   "mimetype": "text/x-python",
   "name": "python",
   "nbconvert_exporter": "python",
   "pygments_lexer": "ipython3",
   "version": "3.9.7"
  }
 },
 "nbformat": 4,
 "nbformat_minor": 5
}
