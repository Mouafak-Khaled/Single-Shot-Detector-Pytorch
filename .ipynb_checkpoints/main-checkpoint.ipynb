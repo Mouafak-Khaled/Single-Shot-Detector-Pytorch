{
 "cells": [
  {
   "cell_type": "code",
   "execution_count": 1,
   "id": "7dbd2761",
   "metadata": {},
   "outputs": [],
   "source": [
    "import torch\n",
    "from model.ssd import *\n",
    "from utils import *\n",
    "from data import *\n",
    "from torch.optim import SGD\n",
    "from train import train\n",
    "from torch.utils.data import DataLoader"
   ]
  },
  {
   "cell_type": "code",
   "execution_count": 2,
   "id": "652f9571",
   "metadata": {},
   "outputs": [],
   "source": [
    "TOTAL_PRIORS_NUM = 9128\n",
    "TOTAL_NUM_OF_CLASSES = 91"
   ]
  },
  {
   "cell_type": "code",
   "execution_count": 3,
   "id": "a11ef890",
   "metadata": {},
   "outputs": [],
   "source": [
    "if torch.cuda.is_available():\n",
    "#     device = torch.device('cuda:0')\n",
    "    device = torch.device('cuda:0')\n",
    "else:\n",
    "    device = torch.device('cpu')"
   ]
  },
  {
   "cell_type": "code",
   "execution_count": 4,
   "id": "6b7019c8",
   "metadata": {},
   "outputs": [],
   "source": [
    "dataset_train_path = \"/home/sarieh/coco_dataset\"\n",
    "dataset_val_path = \"/home/sarieh/coco_dataset\"\n",
    "annot_train_path = \"/home/sarieh/coco_dataset/annotations\""
   ]
  },
  {
   "cell_type": "code",
   "execution_count": 5,
   "id": "6a750810",
   "metadata": {
    "scrolled": true
   },
   "outputs": [
    {
     "name": "stdout",
     "output_type": "stream",
     "text": [
      "loading annotations into memory...\n",
      "Done (t=9.52s)\n",
      "creating index...\n",
      "index created!\n"
     ]
    }
   ],
   "source": [
    "train_data = CocoData(dataset_train_path, annot_train_path, \n",
    "                      transform=CustomCocoTransform,\n",
    "                      device = device,\n",
    "                      labels_path = './data/coco/annotations/labels.txt')"
   ]
  },
  {
   "cell_type": "code",
   "execution_count": 6,
   "id": "ca73e81d",
   "metadata": {},
   "outputs": [
    {
     "name": "stdout",
     "output_type": "stream",
     "text": [
      "loading annotations into memory...\n",
      "Done (t=1.55s)\n",
      "creating index...\n",
      "index created!\n"
     ]
    }
   ],
   "source": [
    "val_data = CocoData(dataset_train_path, annot_train_path,\n",
    "                    transform=CustomCocoTransform,\n",
    "                    device = device,\n",
    "                    split=\"validation\",\n",
    "                    labels_path = './data/coco/annotations/labels.txt')"
   ]
  },
  {
   "cell_type": "code",
   "execution_count": 7,
   "id": "f175e756",
   "metadata": {},
   "outputs": [],
   "source": [
    "criterion = MultiboxLoss(TOTAL_PRIORS_NUM, TOTAL_NUM_OF_CLASSES,threshold=0.5, alpha=1)"
   ]
  },
  {
   "cell_type": "code",
   "execution_count": 8,
   "id": "c9869db7",
   "metadata": {},
   "outputs": [],
   "source": [
    "epochs = 1"
   ]
  },
  {
   "cell_type": "code",
   "execution_count": 9,
   "id": "a12ac435",
   "metadata": {},
   "outputs": [],
   "source": [
    "priors = [4, 7, 6, 7, 5, 5]\n",
    "channels_in = [128, 256, 512, 256, 256, 256]\n",
    "loc_channel_out = [4 * prior for prior in priors]\n",
    "pred_channel_out = [NUM_OF_CLASSES * prior for prior in priors]\n",
    "base_model = models.resnet18(pretrained=True)\n",
    "features = FeatureNet(base_model)\n",
    "    \n",
    "for param in base_model.parameters():\n",
    "    param.requires_grad=False"
   ]
  },
  {
   "cell_type": "code",
   "execution_count": 10,
   "id": "b3c8d9d0",
   "metadata": {},
   "outputs": [],
   "source": [
    "model = PredConvNet(channels_in, loc_channel_out, pred_channel_out, features.features)"
   ]
  },
  {
   "cell_type": "code",
   "execution_count": 11,
   "id": "24204949",
   "metadata": {},
   "outputs": [],
   "source": [
    "optimizer = SGD(model.parameters(), lr=1e-5, momentum=0.9)"
   ]
  },
  {
   "cell_type": "code",
   "execution_count": 12,
   "id": "acadcd9a",
   "metadata": {},
   "outputs": [],
   "source": [
    "train_loader = DataLoader(dataset=train_data, collate_fn = train_data.collate_fn ,batch_size=16)\n",
    "validation_loader = DataLoader(dataset=val_data, collate_fn = val_data.collate_fn , batch_size=16)"
   ]
  },
  {
   "cell_type": "code",
   "execution_count": 13,
   "id": "4f63c79b",
   "metadata": {
    "scrolled": false
   },
   "outputs": [
    {
     "name": "stdout",
     "output_type": "stream",
     "text": [
      "loss:  24.218400955200195\n",
      "loss:  25.874053955078125\n",
      "loss:  23.709716796875\n",
      "loss:  27.335342407226562\n",
      "loss:  26.199777603149414\n",
      "loss:  27.049041748046875\n",
      "loss:  25.565826416015625\n",
      "loss:  24.467201232910156\n",
      "loss:  27.275360107421875\n",
      "loss:  24.978933334350586\n",
      "loss:  26.691444396972656\n",
      "loss:  25.38983917236328\n",
      "loss:  25.51350975036621\n",
      "loss:  25.57887840270996\n",
      "loss:  23.896800994873047\n"
     ]
    },
    {
     "ename": "RuntimeError",
     "evalue": "shape '[16, 9128, -1]' is invalid for input of size 547680",
     "output_type": "error",
     "traceback": [
      "\u001b[0;31m---------------------------------------------------------------------------\u001b[0m",
      "\u001b[0;31mRuntimeError\u001b[0m                              Traceback (most recent call last)",
      "\u001b[0;32m/tmp/ipykernel_309998/1871294758.py\u001b[0m in \u001b[0;36m<module>\u001b[0;34m\u001b[0m\n\u001b[0;32m----> 1\u001b[0;31m train(\n\u001b[0m\u001b[1;32m      2\u001b[0m     \u001b[0mmodel\u001b[0m \u001b[0;34m=\u001b[0m \u001b[0mmodel\u001b[0m\u001b[0;34m,\u001b[0m\u001b[0;34m\u001b[0m\u001b[0;34m\u001b[0m\u001b[0m\n\u001b[1;32m      3\u001b[0m     \u001b[0mtrain_loader\u001b[0m \u001b[0;34m=\u001b[0m \u001b[0mtrain_loader\u001b[0m\u001b[0;34m,\u001b[0m\u001b[0;34m\u001b[0m\u001b[0;34m\u001b[0m\u001b[0m\n\u001b[1;32m      4\u001b[0m     \u001b[0mvalidation_loader\u001b[0m \u001b[0;34m=\u001b[0m \u001b[0mvalidation_loader\u001b[0m\u001b[0;34m,\u001b[0m\u001b[0;34m\u001b[0m\u001b[0;34m\u001b[0m\u001b[0m\n\u001b[1;32m      5\u001b[0m     \u001b[0moptimizer\u001b[0m \u001b[0;34m=\u001b[0m \u001b[0moptimizer\u001b[0m\u001b[0;34m,\u001b[0m\u001b[0;34m\u001b[0m\u001b[0;34m\u001b[0m\u001b[0m\n",
      "\u001b[0;32m~/gitkraken/Single-Shot-Detector-Pytorch/train.py\u001b[0m in \u001b[0;36mtrain\u001b[0;34m(model, train_loader, validation_loader, optimizer, criterion, epochs, device)\u001b[0m\n\u001b[1;32m     22\u001b[0m             \u001b[0mloc_hat\u001b[0m\u001b[0;34m,\u001b[0m \u001b[0mconf_hat\u001b[0m \u001b[0;34m=\u001b[0m \u001b[0mmodel\u001b[0m\u001b[0;34m(\u001b[0m\u001b[0mimages\u001b[0m\u001b[0;34m)\u001b[0m\u001b[0;34m\u001b[0m\u001b[0;34m\u001b[0m\u001b[0m\n\u001b[1;32m     23\u001b[0m \u001b[0;34m\u001b[0m\u001b[0m\n\u001b[0;32m---> 24\u001b[0;31m             \u001b[0mloc_hat\u001b[0m \u001b[0;34m=\u001b[0m \u001b[0mloc_hat\u001b[0m\u001b[0;34m.\u001b[0m\u001b[0mview\u001b[0m\u001b[0;34m(\u001b[0m\u001b[0mb_size\u001b[0m\u001b[0;34m,\u001b[0m \u001b[0mTOTAL_PRIORS_NUM\u001b[0m\u001b[0;34m,\u001b[0m \u001b[0;34m-\u001b[0m\u001b[0;36m1\u001b[0m\u001b[0;34m)\u001b[0m\u001b[0;34m\u001b[0m\u001b[0;34m\u001b[0m\u001b[0m\n\u001b[0m\u001b[1;32m     25\u001b[0m             \u001b[0mconf_hat\u001b[0m \u001b[0;34m=\u001b[0m \u001b[0mconf_hat\u001b[0m\u001b[0;34m.\u001b[0m\u001b[0mview\u001b[0m\u001b[0;34m(\u001b[0m\u001b[0mb_size\u001b[0m\u001b[0;34m,\u001b[0m \u001b[0mTOTAL_PRIORS_NUM\u001b[0m\u001b[0;34m,\u001b[0m \u001b[0;34m-\u001b[0m\u001b[0;36m1\u001b[0m\u001b[0;34m)\u001b[0m\u001b[0;34m\u001b[0m\u001b[0;34m\u001b[0m\u001b[0m\n\u001b[1;32m     26\u001b[0m \u001b[0;34m\u001b[0m\u001b[0m\n",
      "\u001b[0;31mRuntimeError\u001b[0m: shape '[16, 9128, -1]' is invalid for input of size 547680"
     ]
    }
   ],
   "source": [
    "loss = train(\n",
    "    model = model,\n",
    "    train_loader = train_loader,\n",
    "    validation_loader = validation_loader,\n",
    "    optimizer = optimizer,\n",
    "    criterion = criterion,\n",
    "    epochs = epochs,\n",
    "    device = device\n",
    ")"
   ]
  },
  {
   "cell_type": "code",
   "execution_count": null,
   "id": "b61a2532",
   "metadata": {},
   "outputs": [],
   "source": []
  }
 ],
 "metadata": {
  "kernelspec": {
   "display_name": "Python 3 (ipykernel)",
   "language": "python",
   "name": "python3"
  },
  "language_info": {
   "codemirror_mode": {
    "name": "ipython",
    "version": 3
   },
   "file_extension": ".py",
   "mimetype": "text/x-python",
   "name": "python",
   "nbconvert_exporter": "python",
   "pygments_lexer": "ipython3",
   "version": "3.9.7"
  }
 },
 "nbformat": 4,
 "nbformat_minor": 5
}
